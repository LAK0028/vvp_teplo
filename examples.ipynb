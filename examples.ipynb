{
 "cells": [
  {
   "cell_type": "markdown",
   "metadata": {},
   "source": [
    "## Reading input data"
   ]
  },
  {
   "cell_type": "code",
   "execution_count": 1,
   "metadata": {},
   "outputs": [],
   "source": [
    "from processing import ReadInputData\n",
    "\n",
    "input_data = ReadInputData(\"data/spiral/\")\n",
    "kappa, rho_c, T_0, parameters = input_data.load_input_data()\n",
    "dx, dy, dt = parameters.values()\n",
    "\n",
    "num_cells_x = T_0.shape[0]\n",
    "num_cells_y = T_0.shape[1]"
   ]
  },
  {
   "cell_type": "markdown",
   "metadata": {},
   "source": [
    "## Solving one time step (loop approach)"
   ]
  },
  {
   "cell_type": "code",
   "execution_count": 6,
   "metadata": {},
   "outputs": [],
   "source": [
    "from solver import conduction_solving_step\n",
    "\n",
    "T_one_step_loop = conduction_solving_step(kappa, rho_c, T_0, num_cells_x, num_cells_y, dx, dy, dt)"
   ]
  },
  {
   "cell_type": "markdown",
   "metadata": {},
   "source": [
    "## Solving one time step (sparse matrix multiplication)"
   ]
  },
  {
   "cell_type": "code",
   "execution_count": 5,
   "metadata": {},
   "outputs": [],
   "source": [
    "from solver import loop_building_conduction_sparse_matrix, conduction_solving_step_matrix\n",
    "\n",
    "A = loop_building_conduction_sparse_matrix(kappa, rho_c, num_cells_x, num_cells_y, dx, dy)\n",
    "T_one_step_matrix = conduction_solving_step_matrix(A, T_0, dt)"
   ]
  },
  {
   "cell_type": "markdown",
   "metadata": {},
   "source": [
    "## Transient simulation (comparison of both approaches)\n",
    "- For both approaches is simulated 1 min of transient simulation.\n",
    "- Saved is only the end of the simulation."
   ]
  },
  {
   "cell_type": "code",
   "execution_count": 15,
   "metadata": {},
   "outputs": [],
   "source": [
    "from solver import transient_conduction"
   ]
  },
  {
   "cell_type": "code",
   "execution_count": 16,
   "metadata": {},
   "outputs": [
    {
     "name": "stdout",
     "output_type": "stream",
     "text": [
      "15.8 s ± 130 ms per loop (mean ± std. dev. of 7 runs, 1 loop each)\n"
     ]
    }
   ],
   "source": [
    "%%timeit\n",
    "T_history_loop = transient_conduction(kappa, rho_c, T_0, num_cells_x, num_cells_y, dx, dy, dt, \"element_wise\", 60, 60)"
   ]
  },
  {
   "cell_type": "code",
   "execution_count": 17,
   "metadata": {},
   "outputs": [
    {
     "name": "stdout",
     "output_type": "stream",
     "text": [
      "111 ms ± 675 μs per loop (mean ± std. dev. of 7 runs, 10 loops each)\n"
     ]
    }
   ],
   "source": [
    "%%timeit\n",
    "T_history_matrix = transient_conduction(kappa, rho_c, T_0, num_cells_x, num_cells_y, dx, dy, dt, \"matrix_multiplication\", 60, 60)"
   ]
  },
  {
   "cell_type": "markdown",
   "metadata": {},
   "source": [
    "## Printing the simulation results within the given time."
   ]
  }
 ],
 "metadata": {
  "kernelspec": {
   "display_name": "Python 3",
   "language": "python",
   "name": "python3"
  },
  "language_info": {
   "codemirror_mode": {
    "name": "ipython",
    "version": 3
   },
   "file_extension": ".py",
   "mimetype": "text/x-python",
   "name": "python",
   "nbconvert_exporter": "python",
   "pygments_lexer": "ipython3",
   "version": "3.13.3"
  },
  "orig_nbformat": 4
 },
 "nbformat": 4,
 "nbformat_minor": 2
}
