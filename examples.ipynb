{
 "cells": [
  {
   "cell_type": "code",
   "execution_count": 6,
   "metadata": {},
   "outputs": [],
   "source": [
    "import json\n"
   ]
  },
  {
   "cell_type": "code",
   "execution_count": 7,
   "metadata": {},
   "outputs": [
    {
     "name": "stdout",
     "output_type": "stream",
     "text": [
      "{'dx': 0.005, 'dy': 0.005, 'dt': 2.0}\n",
      "dx = 0.005, dy = 0.005, dt = 2.0\n"
     ]
    }
   ],
   "source": [
    "# load data/cihly/parametry.json\n",
    "with open('data/bricks/parameters.json') as f:\n",
    "    data = json.load(f)\n",
    "# print data\n",
    "print(data)\n",
    "dx = data['dx']\n",
    "dy = data['dy']\n",
    "dt = data['dt']\n",
    "print(f\"dx = {dx}, dy = {dy}, dt = {dt}\")"
   ]
  },
  {
   "cell_type": "code",
   "execution_count": 4,
   "metadata": {},
   "outputs": [
    {
     "name": "stdout",
     "output_type": "stream",
     "text": [
      "{'dx': 0.01, 'dy': 0.01, 'dt': 0.1}\n",
      "dx = 0.01, dy = 0.01, dt = 0.1\n"
     ]
    }
   ],
   "source": [
    "# load data/spirala/parametry.json\n",
    "with open('data/spiral/parameters.json') as f:\n",
    "    data = json.load(f)\n",
    "# print data\n",
    "print(data)\n",
    "dx = data['dx']\n",
    "dy = data['dy']\n",
    "dt = data['dt']\n",
    "print(f\"dx = {dx}, dy = {dy}, dt = {dt}\")"
   ]
  }
 ],
 "metadata": {
  "kernelspec": {
   "display_name": "Python 3",
   "language": "python",
   "name": "python3"
  },
  "language_info": {
   "codemirror_mode": {
    "name": "ipython",
    "version": 3
   },
   "file_extension": ".py",
   "mimetype": "text/x-python",
   "name": "python",
   "nbconvert_exporter": "python",
   "pygments_lexer": "ipython3",
   "version": "3.13.3"
  },
  "orig_nbformat": 4
 },
 "nbformat": 4,
 "nbformat_minor": 2
}
